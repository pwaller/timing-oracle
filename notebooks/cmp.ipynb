{
 "metadata": {
  "name": "cmp"
 },
 "nbformat": 3,
 "nbformat_minor": 0,
 "worksheets": [
  {
   "cells": [
    {
     "cell_type": "code",
     "collapsed": false,
     "input": [
      "from matplotlib.pylab import hist\n",
      "from os import listdir\n",
      "logs = sorted(listdir(\"logs\"))\n",
      "\n",
      "def read_log(log):\n",
      "    x = [x.split() for x in open(\"logs/\" + log).read().split(\"----\") if x]\n",
      "    _, ticks, _, _, _, _ = zip(*x)\n",
      "    return map(int, ticks)\n",
      "\n",
      "\n",
      "def read_log_highstat(log):\n",
      "    x = [x.split() for x in open(\"logs-highstat/\" + log).read().split(\"----\") if x]\n",
      "    _, ticks, _, _, _, _ = zip(*x)\n",
      "    return N.array(map(int, ticks))"
     ],
     "language": "python",
     "metadata": {},
     "outputs": [],
     "prompt_number": 66
    },
    {
     "cell_type": "code",
     "collapsed": false,
     "input": [
      "hist(read_log_highstat(logs[0]), bins=40, range=(6.8e7, 7.0e7));"
     ],
     "language": "python",
     "metadata": {},
     "outputs": [
      {
       "metadata": {},
       "output_type": "display_data",
       "png": "[encoded data removed]",
       "text": [
        "<matplotlib.figure.Figure at 0x3c8a150>"
       ]
      }
     ],
     "prompt_number": 96
    },
    {
     "cell_type": "code",
     "collapsed": false,
     "input": [
      "    hist(read_log_highstat(logs[255]), bins=40, range=(6.8e7, 7.0e7));"
     ],
     "language": "python",
     "metadata": {},
     "outputs": [
      {
       "metadata": {},
       "output_type": "display_data",
       "png": "[encoded data removed]",
       "text": [
        "<matplotlib.figure.Figure at 0x276a690>"
       ]
      }
     ],
     "prompt_number": 57
    },
    {
     "cell_type": "code",
     "collapsed": false,
     "input": [
      "import numpy as N"
     ],
     "language": "python",
     "metadata": {},
     "outputs": [],
     "prompt_number": 58
    },
    {
     "cell_type": "code",
     "collapsed": false,
     "input": [
      "values = read_log_highstat(logs[255])"
     ],
     "language": "python",
     "metadata": {},
     "outputs": [],
     "prompt_number": 59
    },
    {
     "cell_type": "code",
     "collapsed": false,
     "input": [
      "N.mean(values) / 1e7, N.std(values) / 1e7"
     ],
     "language": "python",
     "metadata": {},
     "outputs": [
      {
       "metadata": {},
       "output_type": "pyout",
       "prompt_number": 64,
       "text": [
        "(7.8869924209999995, 3.9798440032371789)"
       ]
      }
     ],
     "prompt_number": 64
    },
    {
     "cell_type": "code",
     "collapsed": false,
     "input": [
      "values = read_log_highstat(logs[0]); N.mean(values) / 1e7, N.std(values) / 1e7"
     ],
     "language": "python",
     "metadata": {},
     "outputs": [
      {
       "metadata": {},
       "output_type": "pyout",
       "prompt_number": 65,
       "text": [
        "(8.1976907768, 4.2954987172300712)"
       ]
      }
     ],
     "prompt_number": 65
    },
    {
     "cell_type": "code",
     "collapsed": false,
     "input": [
      "8.2 / 1000**0.5"
     ],
     "language": "python",
     "metadata": {},
     "outputs": [
      {
       "metadata": {},
       "output_type": "pyout",
       "prompt_number": 95,
       "text": [
        "0.2593067681338071"
       ]
      }
     ],
     "prompt_number": 95
    },
    {
     "cell_type": "code",
     "collapsed": false,
     "input": [],
     "language": "python",
     "metadata": {},
     "outputs": []
    }
   ],
   "metadata": {}
  }
 ]
}